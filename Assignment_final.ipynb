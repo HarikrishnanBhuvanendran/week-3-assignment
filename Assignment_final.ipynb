{
 "cells": [
  {
   "cell_type": "markdown",
   "id": "1254c89d",
   "metadata": {},
   "source": [
    "## Assignment on Python for Data Science\n"
   ]
  },
  {
   "cell_type": "code",
   "execution_count": 19,
   "id": "4f113b8e",
   "metadata": {},
   "outputs": [
    {
     "name": "stdout",
     "output_type": "stream",
     "text": [
      "C:\\Users\\The.Maqtron\n"
     ]
    }
   ],
   "source": [
    "import os\n",
    "current_path = os.getcwd()\n",
    "print(current_path)"
   ]
  },
  {
   "cell_type": "markdown",
   "id": "dc36f3e9",
   "metadata": {},
   "source": [
    "## 1. Read the dataset to python environment.\n",
    ".\n"
   ]
  },
  {
   "cell_type": "code",
   "execution_count": 20,
   "id": "f0ab14b5",
   "metadata": {},
   "outputs": [
    {
     "name": "stdout",
     "output_type": "stream",
     "text": [
      "      SL   SW   PL   PW  Classification\n",
      "0    5.1  3.5  1.4  0.2     Iris-setosa\n",
      "1    4.9  3.0  1.4  0.2     Iris-setosa\n",
      "2    4.7  3.2  1.3  0.2     Iris-setosa\n",
      "3    4.6  3.1  1.5  0.2     Iris-setosa\n",
      "4    5.0  3.6  1.4  0.2     Iris-setosa\n",
      "..   ...  ...  ...  ...             ...\n",
      "145  6.7  3.0  5.2  2.3  Iris-virginica\n",
      "146  6.3  2.5  5.0  1.9  Iris-virginica\n",
      "147  6.5  3.0  5.2  2.0  Iris-virginica\n",
      "148  6.2  3.4  5.4  2.3  Iris-virginica\n",
      "149  5.9  3.0  5.1  1.8  Iris-virginica\n",
      "\n",
      "[150 rows x 5 columns]\n"
     ]
    }
   ],
   "source": [
    "import pandas as pd\n",
    "import numpy as np\n",
    "import matplotlib.pyplot as plt\n",
    "import seaborn as sns\n",
    "\n",
    "\n",
    "xls = pd.ExcelFile(r\"iris.xls\")\n",
    "sheetX = xls.parse(0) \n",
    "print(sheetX)\n",
    "\n"
   ]
  },
  {
   "cell_type": "markdown",
   "id": "d75b07d6",
   "metadata": {},
   "source": [
    "# 2. Display the columns in the dataset.\n"
   ]
  },
  {
   "cell_type": "code",
   "execution_count": 21,
   "id": "11ffa905",
   "metadata": {},
   "outputs": [
    {
     "name": "stdout",
     "output_type": "stream",
     "text": [
      " columns in the given xls are : ['SL' 'SW' 'PL' 'PW' 'Classification']\n",
      "0      5.1\n",
      "1      4.9\n",
      "2      4.7\n",
      "3      4.6\n",
      "4      5.0\n",
      "      ... \n",
      "145    6.7\n",
      "146    6.3\n",
      "147    6.5\n",
      "148    6.2\n",
      "149    5.9\n",
      "Name: SL, Length: 150, dtype: float64 0      3.5\n",
      "1      3.0\n",
      "2      3.2\n",
      "3      3.1\n",
      "4      3.6\n",
      "      ... \n",
      "145    3.0\n",
      "146    2.5\n",
      "147    3.0\n",
      "148    3.4\n",
      "149    3.0\n",
      "Name: SW, Length: 150, dtype: float64 0      1.4\n",
      "1      1.4\n",
      "2      1.3\n",
      "3      1.5\n",
      "4      1.4\n",
      "      ... \n",
      "145    5.2\n",
      "146    5.0\n",
      "147    5.2\n",
      "148    5.4\n",
      "149    5.1\n",
      "Name: PL, Length: 150, dtype: float64 0      0.2\n",
      "1      0.2\n",
      "2      0.2\n",
      "3      0.2\n",
      "4      0.2\n",
      "      ... \n",
      "145    2.3\n",
      "146    1.9\n",
      "147    2.0\n",
      "148    2.3\n",
      "149    1.8\n",
      "Name: PW, Length: 150, dtype: float64 0         Iris-setosa\n",
      "1         Iris-setosa\n",
      "2         Iris-setosa\n",
      "3         Iris-setosa\n",
      "4         Iris-setosa\n",
      "            ...      \n",
      "145    Iris-virginica\n",
      "146    Iris-virginica\n",
      "147    Iris-virginica\n",
      "148    Iris-virginica\n",
      "149    Iris-virginica\n",
      "Name: Classification, Length: 150, dtype: object\n"
     ]
    }
   ],
   "source": [
    "col_names = sheetX.columns.values\n",
    "print(\" columns in the given xls are :\",col_names)\n",
    "var1 = sheetX['SL']\n",
    "var2 = sheetX['SW']\n",
    "var3 = sheetX['PL']\n",
    "var4 = sheetX['PW']\n",
    "var5 = sheetX['Classification']\n",
    "#print(var1)print(var2)\n",
    "print(var1,var2,var3,var4,var5)\n"
   ]
  },
  {
   "cell_type": "markdown",
   "id": "f8263cb9",
   "metadata": {},
   "source": [
    "## 3. Calculate the mean of each column of the dataset."
   ]
  },
  {
   "cell_type": "code",
   "execution_count": 22,
   "id": "a85bd850",
   "metadata": {},
   "outputs": [
    {
     "name": "stdout",
     "output_type": "stream",
     "text": [
      "SL    5.843333\n",
      "SW    3.054000\n",
      "PL    3.758667\n",
      "PW    1.198667\n",
      "dtype: float64\n",
      "SL mean :  5.843333333333335\n",
      "SW mean :  3.0540000000000007\n",
      "PL mean :  3.7586666666666693\n",
      "PW mean :  1.1986666666666672\n"
     ]
    }
   ],
   "source": [
    "mean_columns = sheetX.mean(axis = 0)\n",
    "print(mean_columns)\n",
    "print(\"SL mean : \" , var1.mean())\n",
    "print(\"SW mean : \" , var2.mean())\n",
    "print(\"PL mean : \" , var3.mean())\n",
    "print(\"PW mean : \" , var4.mean())"
   ]
  },
  {
   "cell_type": "markdown",
   "id": "a575d35b",
   "metadata": {},
   "source": [
    "## 4. Check for the null values present in the dataset."
   ]
  },
  {
   "cell_type": "code",
   "execution_count": 23,
   "id": "5ab13ccd",
   "metadata": {},
   "outputs": [
    {
     "name": "stdout",
     "output_type": "stream",
     "text": [
      "Index([], dtype='object')\n",
      " presence of null values: False\n"
     ]
    }
   ],
   "source": [
    "null_columns=sheetX.columns[sheetX.isnull().any()]\n",
    "print(null_columns)\n",
    "print(\" presence of null values:\",sheetX.isnull().values.any())\n"
   ]
  },
  {
   "cell_type": "markdown",
   "id": "4fc9869c",
   "metadata": {},
   "source": [
    "## 5. Perform meaningful visualizations using the dataset. Bring at least 3 visualizations."
   ]
  },
  {
   "cell_type": "markdown",
   "id": "0f51e660",
   "metadata": {},
   "source": [
    "# visualizations 1(PW value distribution)"
   ]
  },
  {
   "cell_type": "code",
   "execution_count": 24,
   "id": "98530a9a",
   "metadata": {},
   "outputs": [
    {
     "data": {
      "text/plain": [
       "(array([ 0.,  5., 10., 15., 20., 25., 30., 35., 40., 45.]),\n",
       " [Text(0, 0, ''),\n",
       "  Text(0, 0, ''),\n",
       "  Text(0, 0, ''),\n",
       "  Text(0, 0, ''),\n",
       "  Text(0, 0, ''),\n",
       "  Text(0, 0, ''),\n",
       "  Text(0, 0, ''),\n",
       "  Text(0, 0, ''),\n",
       "  Text(0, 0, ''),\n",
       "  Text(0, 0, '')])"
      ]
     },
     "execution_count": 24,
     "metadata": {},
     "output_type": "execute_result"
    },
    {
     "data": {
      "image/png": "[encoded data removed]",
      "text/plain": [
       "<Figure size 432x432 with 1 Axes>"
      ]
     },
     "metadata": {
      "needs_background": "light"
     },
     "output_type": "display_data"
    }
   ],
   "source": [
    "plt.figure(figsize=(6,6))\n",
    "plt.hist(var4,color='aquamarine')\n",
    "plt.title(\"PW values\",fontsize=30)\n",
    "plt.xticks()\n",
    "plt.yticks()"
   ]
  },
  {
   "cell_type": "markdown",
   "id": "7721068e",
   "metadata": {},
   "source": [
    "# visualizations 2 (SW value distribution)"
   ]
  },
  {
   "cell_type": "code",
   "execution_count": 25,
   "id": "01091547",
   "metadata": {},
   "outputs": [
    {
     "data": {
      "text/plain": [
       "(array([ 0.,  5., 10., 15., 20., 25., 30., 35., 40.]),\n",
       " [Text(0, 0, ''),\n",
       "  Text(0, 0, ''),\n",
       "  Text(0, 0, ''),\n",
       "  Text(0, 0, ''),\n",
       "  Text(0, 0, ''),\n",
       "  Text(0, 0, ''),\n",
       "  Text(0, 0, ''),\n",
       "  Text(0, 0, ''),\n",
       "  Text(0, 0, '')])"
      ]
     },
     "execution_count": 25,
     "metadata": {},
     "output_type": "execute_result"
    },
    {
     "data": {
      "image/png": "[encoded data removed]",
      "text/plain": [
       "<Figure size 432x432 with 1 Axes>"
      ]
     },
     "metadata": {
      "needs_background": "light"
     },
     "output_type": "display_data"
    }
   ],
   "source": [
    "plt.figure(figsize=(6,6))\n",
    "plt.hist(var2,color='mediumseagreen',rwidth=0.9)\n",
    "plt.title(\"SW values\",fontsize=30)\n",
    "plt.xticks()\n",
    "plt.yticks()"
   ]
  },
  {
   "cell_type": "markdown",
   "id": "70ad8c9c",
   "metadata": {},
   "source": [
    "# visualizations 3 (classification value distribution)"
   ]
  },
  {
   "cell_type": "code",
   "execution_count": 26,
   "id": "d0499b20",
   "metadata": {},
   "outputs": [
    {
     "data": {
      "text/plain": [
       "(array([ 0., 10., 20., 30., 40., 50., 60.]),\n",
       " [Text(0, 0, ''),\n",
       "  Text(0, 0, ''),\n",
       "  Text(0, 0, ''),\n",
       "  Text(0, 0, ''),\n",
       "  Text(0, 0, ''),\n",
       "  Text(0, 0, ''),\n",
       "  Text(0, 0, '')])"
      ]
     },
     "execution_count": 26,
     "metadata": {},
     "output_type": "execute_result"
    },
    {
     "data": {
      "image/png": "[encoded data removed]",
      "text/plain": [
       "<Figure size 360x360 with 1 Axes>"
      ]
     },
     "metadata": {
      "needs_background": "light"
     },
     "output_type": "display_data"
    }
   ],
   "source": [
    "plt.figure(figsize=(5,5))\n",
    "plt.hist(var5,color='lawngreen')\n",
    "plt.title(\"classification\",fontsize=30)\n",
    "plt.xticks()\n",
    "plt.yticks()"
   ]
  },
  {
   "cell_type": "code",
   "execution_count": null,
   "id": "46fddd06",
   "metadata": {},
   "outputs": [],
   "source": []
  }
 ],
 "metadata": {
  "kernelspec": {
   "display_name": "Python 3",
   "language": "python",
   "name": "python3"
  },
  "language_info": {
   "codemirror_mode": {
    "name": "ipython",
    "version": 3
   },
   "file_extension": ".py",
   "mimetype": "text/x-python",
   "name": "python",
   "nbconvert_exporter": "python",
   "pygments_lexer": "ipython3",
   "version": "3.8.8"
  }
 },
 "nbformat": 4,
 "nbformat_minor": 5
}
